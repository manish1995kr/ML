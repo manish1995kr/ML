{
 "cells": [
  {
   "cell_type": "code",
   "execution_count": 28,
   "metadata": {
    "_cell_guid": "b1076dfc-b9ad-4769-8c92-a6c4dae69d19",
    "_uuid": "8f2839f25d086af736a60e9eeb907d3b93b6e0e5",
    "execution": {
     "iopub.execute_input": "2022-07-24T08:02:37.099155Z",
     "iopub.status.busy": "2022-07-24T08:02:37.098659Z",
     "iopub.status.idle": "2022-07-24T08:02:37.115167Z",
     "shell.execute_reply": "2022-07-24T08:02:37.113779Z",
     "shell.execute_reply.started": "2022-07-24T08:02:37.099117Z"
    }
   },
   "outputs": [],
   "source": [
    "# This Python 3 environment comes with many helpful analytics libraries installed\n",
    "# It is defined by the kaggle/python Docker image: https://github.com/kaggle/docker-python\n",
    "# For example, here's several helpful packages to load\n",
    "\n",
    "import numpy as np # linear algebra\n",
    "import pandas as pd # data processing, CSV file I/O (e.g. pd.read_csv)\n",
    "\n",
    "# Input data files are available in the read-only \"../input/\" directory\n",
    "# For example, running this (by clicking run or pressing Shift+Enter) will list all files under the input directory\n",
    "\n",
    "import os\n",
    "for dirname, _, filenames in os.walk('/kaggle/input'):\n",
    "    for filename in filenames:\n",
    "        print(os.path.join(dirname, filename))\n",
    "\n",
    "# You can write up to 20GB to the current directory (/kaggle/working/) that gets preserved as output when you create a version using \"Save & Run All\" \n",
    "# You can also write temporary files to /kaggle/temp/, but they won't be saved outside of the current session"
   ]
  },
  {
   "cell_type": "code",
   "execution_count": 29,
   "metadata": {
    "execution": {
     "iopub.execute_input": "2022-07-24T08:02:37.187379Z",
     "iopub.status.busy": "2022-07-24T08:02:37.186950Z",
     "iopub.status.idle": "2022-07-24T08:02:37.208693Z",
     "shell.execute_reply": "2022-07-24T08:02:37.207539Z",
     "shell.execute_reply.started": "2022-07-24T08:02:37.187342Z"
    }
   },
   "outputs": [],
   "source": [
    "df = pd.read_csv(\"/kaggle/input/pima-indians-diabetes-database/diabetes.csv\")\n",
    "df.head(2)"
   ]
  },
  {
   "cell_type": "code",
   "execution_count": 30,
   "metadata": {
    "execution": {
     "iopub.execute_input": "2022-07-24T08:02:37.268653Z",
     "iopub.status.busy": "2022-07-24T08:02:37.267945Z",
     "iopub.status.idle": "2022-07-24T08:02:37.276328Z",
     "shell.execute_reply": "2022-07-24T08:02:37.275095Z",
     "shell.execute_reply.started": "2022-07-24T08:02:37.268605Z"
    }
   },
   "outputs": [],
   "source": [
    "df.shape"
   ]
  },
  {
   "cell_type": "code",
   "execution_count": 31,
   "metadata": {
    "execution": {
     "iopub.execute_input": "2022-07-24T08:02:37.346314Z",
     "iopub.status.busy": "2022-07-24T08:02:37.345466Z",
     "iopub.status.idle": "2022-07-24T08:02:37.362986Z",
     "shell.execute_reply": "2022-07-24T08:02:37.361738Z",
     "shell.execute_reply.started": "2022-07-24T08:02:37.346254Z"
    }
   },
   "outputs": [],
   "source": [
    "df.info()"
   ]
  },
  {
   "cell_type": "code",
   "execution_count": 32,
   "metadata": {
    "execution": {
     "iopub.execute_input": "2022-07-24T08:02:37.426933Z",
     "iopub.status.busy": "2022-07-24T08:02:37.425829Z",
     "iopub.status.idle": "2022-07-24T08:02:37.471282Z",
     "shell.execute_reply": "2022-07-24T08:02:37.470108Z",
     "shell.execute_reply.started": "2022-07-24T08:02:37.426882Z"
    }
   },
   "outputs": [],
   "source": [
    "df.describe().T"
   ]
  },
  {
   "cell_type": "code",
   "execution_count": 33,
   "metadata": {
    "execution": {
     "iopub.execute_input": "2022-07-24T08:02:37.502851Z",
     "iopub.status.busy": "2022-07-24T08:02:37.502141Z",
     "iopub.status.idle": "2022-07-24T08:02:37.513486Z",
     "shell.execute_reply": "2022-07-24T08:02:37.512294Z",
     "shell.execute_reply.started": "2022-07-24T08:02:37.502803Z"
    }
   },
   "outputs": [],
   "source": [
    "df.skew()"
   ]
  },
  {
   "cell_type": "code",
   "execution_count": 34,
   "metadata": {
    "execution": {
     "iopub.execute_input": "2022-07-24T08:02:37.584570Z",
     "iopub.status.busy": "2022-07-24T08:02:37.584167Z",
     "iopub.status.idle": "2022-07-24T08:02:37.595712Z",
     "shell.execute_reply": "2022-07-24T08:02:37.594670Z",
     "shell.execute_reply.started": "2022-07-24T08:02:37.584536Z"
    }
   },
   "outputs": [],
   "source": [
    "df.kurt()"
   ]
  },
  {
   "cell_type": "code",
   "execution_count": 35,
   "metadata": {
    "execution": {
     "iopub.execute_input": "2022-07-24T08:02:37.656459Z",
     "iopub.status.busy": "2022-07-24T08:02:37.655761Z",
     "iopub.status.idle": "2022-07-24T08:02:37.664184Z",
     "shell.execute_reply": "2022-07-24T08:02:37.663007Z",
     "shell.execute_reply.started": "2022-07-24T08:02:37.656411Z"
    }
   },
   "outputs": [],
   "source": [
    "df.columns"
   ]
  },
  {
   "cell_type": "code",
   "execution_count": 36,
   "metadata": {
    "execution": {
     "iopub.execute_input": "2022-07-24T08:02:37.733732Z",
     "iopub.status.busy": "2022-07-24T08:02:37.733286Z",
     "iopub.status.idle": "2022-07-24T08:02:37.746540Z",
     "shell.execute_reply": "2022-07-24T08:02:37.745000Z",
     "shell.execute_reply.started": "2022-07-24T08:02:37.733665Z"
    }
   },
   "outputs": [],
   "source": [
    "for i in ['Glucose', 'BloodPressure', 'SkinThickness', 'Insulin','BMI']:\n",
    "    df[i].replace({0:df[i].median()},inplace = True)"
   ]
  },
  {
   "cell_type": "code",
   "execution_count": 37,
   "metadata": {
    "execution": {
     "iopub.execute_input": "2022-07-24T08:02:37.813989Z",
     "iopub.status.busy": "2022-07-24T08:02:37.813252Z",
     "iopub.status.idle": "2022-07-24T08:02:37.858610Z",
     "shell.execute_reply": "2022-07-24T08:02:37.857436Z",
     "shell.execute_reply.started": "2022-07-24T08:02:37.813938Z"
    }
   },
   "outputs": [],
   "source": [
    "df.describe().T"
   ]
  },
  {
   "cell_type": "code",
   "execution_count": 38,
   "metadata": {
    "execution": {
     "iopub.execute_input": "2022-07-24T08:02:37.890793Z",
     "iopub.status.busy": "2022-07-24T08:02:37.890033Z",
     "iopub.status.idle": "2022-07-24T08:02:37.896476Z",
     "shell.execute_reply": "2022-07-24T08:02:37.895448Z",
     "shell.execute_reply.started": "2022-07-24T08:02:37.890742Z"
    }
   },
   "outputs": [],
   "source": [
    "import scipy.stats as st"
   ]
  },
  {
   "cell_type": "code",
   "execution_count": 39,
   "metadata": {
    "execution": {
     "iopub.execute_input": "2022-07-24T08:02:37.937211Z",
     "iopub.status.busy": "2022-07-24T08:02:37.936472Z",
     "iopub.status.idle": "2022-07-24T08:02:37.942392Z",
     "shell.execute_reply": "2022-07-24T08:02:37.941536Z",
     "shell.execute_reply.started": "2022-07-24T08:02:37.937162Z"
    }
   },
   "outputs": [],
   "source": [
    "#Clipping the outliers"
   ]
  },
  {
   "cell_type": "code",
   "execution_count": 40,
   "metadata": {
    "execution": {
     "iopub.execute_input": "2022-07-24T08:02:37.990493Z",
     "iopub.status.busy": "2022-07-24T08:02:37.989800Z",
     "iopub.status.idle": "2022-07-24T08:02:38.014805Z",
     "shell.execute_reply": "2022-07-24T08:02:38.013826Z",
     "shell.execute_reply.started": "2022-07-24T08:02:37.990442Z"
    }
   },
   "outputs": [],
   "source": [
    "for i in df.columns:\n",
    "    lw = np.quantile(df[i],[0.25]) - 1.5*st.iqr(df[i])\n",
    "    uw = np.quantile(df[i],[0.75]) + 1.5*st.iqr(df[i])\n",
    "    print(i)\n",
    "    print(\"lower whisker : \",float(lw),\"Upper whisker : \",float(uw))\n",
    "    lw = float(lw)\n",
    "    uw = float(uw)\n",
    "    df[i] = np.where(df[i]<lw,lw,np.where(df[i]>uw,uw,df[i]))\n",
    "            "
   ]
  },
  {
   "cell_type": "code",
   "execution_count": 41,
   "metadata": {
    "execution": {
     "iopub.execute_input": "2022-07-24T08:02:38.228185Z",
     "iopub.status.busy": "2022-07-24T08:02:38.227772Z",
     "iopub.status.idle": "2022-07-24T08:02:38.234706Z",
     "shell.execute_reply": "2022-07-24T08:02:38.233483Z",
     "shell.execute_reply.started": "2022-07-24T08:02:38.228149Z"
    }
   },
   "outputs": [],
   "source": [
    "import matplotlib.pyplot as plt "
   ]
  },
  {
   "cell_type": "code",
   "execution_count": 42,
   "metadata": {
    "execution": {
     "iopub.execute_input": "2022-07-24T08:02:38.281966Z",
     "iopub.status.busy": "2022-07-24T08:02:38.281326Z",
     "iopub.status.idle": "2022-07-24T08:02:39.184792Z",
     "shell.execute_reply": "2022-07-24T08:02:39.183547Z",
     "shell.execute_reply.started": "2022-07-24T08:02:38.281925Z"
    }
   },
   "outputs": [],
   "source": [
    "pn0 = 1\n",
    "plt.figure(figsize = (15,15))\n",
    "for i in df.columns:\n",
    "    if pn0<10:\n",
    "        plt.subplot(4,4,pn0)\n",
    "        plt.boxplot(df[i])\n",
    "        plt.xlabel(i)\n",
    "        pn0+=1"
   ]
  },
  {
   "cell_type": "code",
   "execution_count": 43,
   "metadata": {
    "execution": {
     "iopub.execute_input": "2022-07-24T08:02:39.188550Z",
     "iopub.status.busy": "2022-07-24T08:02:39.186956Z",
     "iopub.status.idle": "2022-07-24T08:02:39.194777Z",
     "shell.execute_reply": "2022-07-24T08:02:39.193389Z",
     "shell.execute_reply.started": "2022-07-24T08:02:39.188500Z"
    }
   },
   "outputs": [],
   "source": [
    "from sklearn.preprocessing import MinMaxScaler"
   ]
  },
  {
   "cell_type": "code",
   "execution_count": 44,
   "metadata": {
    "execution": {
     "iopub.execute_input": "2022-07-24T08:02:39.197591Z",
     "iopub.status.busy": "2022-07-24T08:02:39.196379Z",
     "iopub.status.idle": "2022-07-24T08:02:39.207538Z",
     "shell.execute_reply": "2022-07-24T08:02:39.206569Z",
     "shell.execute_reply.started": "2022-07-24T08:02:39.197538Z"
    }
   },
   "outputs": [],
   "source": [
    "X = df.drop(columns = [\"Outcome\"])\n",
    "y = df[\"Outcome\"]"
   ]
  },
  {
   "cell_type": "code",
   "execution_count": 45,
   "metadata": {
    "execution": {
     "iopub.execute_input": "2022-07-24T08:02:39.213869Z",
     "iopub.status.busy": "2022-07-24T08:02:39.212751Z",
     "iopub.status.idle": "2022-07-24T08:02:39.225114Z",
     "shell.execute_reply": "2022-07-24T08:02:39.224005Z",
     "shell.execute_reply.started": "2022-07-24T08:02:39.213825Z"
    }
   },
   "outputs": [],
   "source": [
    "scaler = MinMaxScaler()\n",
    "X_scaled = scaler.fit_transform(X)\n"
   ]
  },
  {
   "cell_type": "code",
   "execution_count": 46,
   "metadata": {
    "execution": {
     "iopub.execute_input": "2022-07-24T08:02:39.229665Z",
     "iopub.status.busy": "2022-07-24T08:02:39.229188Z",
     "iopub.status.idle": "2022-07-24T08:02:39.240741Z",
     "shell.execute_reply": "2022-07-24T08:02:39.239477Z",
     "shell.execute_reply.started": "2022-07-24T08:02:39.229626Z"
    }
   },
   "outputs": [],
   "source": [
    "X_scaled"
   ]
  },
  {
   "cell_type": "code",
   "execution_count": 47,
   "metadata": {
    "execution": {
     "iopub.execute_input": "2022-07-24T08:02:39.268742Z",
     "iopub.status.busy": "2022-07-24T08:02:39.267394Z",
     "iopub.status.idle": "2022-07-24T08:02:39.274437Z",
     "shell.execute_reply": "2022-07-24T08:02:39.273195Z",
     "shell.execute_reply.started": "2022-07-24T08:02:39.268662Z"
    }
   },
   "outputs": [],
   "source": [
    "from sklearn.model_selection import train_test_split"
   ]
  },
  {
   "cell_type": "code",
   "execution_count": 49,
   "metadata": {
    "execution": {
     "iopub.execute_input": "2022-07-24T08:05:09.991701Z",
     "iopub.status.busy": "2022-07-24T08:05:09.991209Z",
     "iopub.status.idle": "2022-07-24T08:05:10.002328Z",
     "shell.execute_reply": "2022-07-24T08:05:10.001400Z",
     "shell.execute_reply.started": "2022-07-24T08:05:09.991646Z"
    }
   },
   "outputs": [],
   "source": [
    "X_train,X_test,y_train,y_test = train_test_split(X_scaled,y,test_size = 0.10,random_state = 123)"
   ]
  },
  {
   "cell_type": "code",
   "execution_count": 50,
   "metadata": {
    "execution": {
     "iopub.execute_input": "2022-07-24T08:05:26.017348Z",
     "iopub.status.busy": "2022-07-24T08:05:26.016666Z",
     "iopub.status.idle": "2022-07-24T08:05:26.027337Z",
     "shell.execute_reply": "2022-07-24T08:05:26.025985Z",
     "shell.execute_reply.started": "2022-07-24T08:05:26.017299Z"
    }
   },
   "outputs": [],
   "source": [
    "X_train.shape"
   ]
  },
  {
   "cell_type": "code",
   "execution_count": 51,
   "metadata": {
    "execution": {
     "iopub.execute_input": "2022-07-24T08:05:34.053857Z",
     "iopub.status.busy": "2022-07-24T08:05:34.053257Z",
     "iopub.status.idle": "2022-07-24T08:05:34.075756Z",
     "shell.execute_reply": "2022-07-24T08:05:34.074511Z",
     "shell.execute_reply.started": "2022-07-24T08:05:34.053805Z"
    }
   },
   "outputs": [],
   "source": [
    "X_test.shape"
   ]
  },
  {
   "cell_type": "code",
   "execution_count": 52,
   "metadata": {
    "execution": {
     "iopub.execute_input": "2022-07-24T08:06:11.938490Z",
     "iopub.status.busy": "2022-07-24T08:06:11.938052Z",
     "iopub.status.idle": "2022-07-24T08:06:11.968015Z",
     "shell.execute_reply": "2022-07-24T08:06:11.966742Z",
     "shell.execute_reply.started": "2022-07-24T08:06:11.938453Z"
    }
   },
   "outputs": [],
   "source": [
    "from sklearn.linear_model import LogisticRegression"
   ]
  },
  {
   "cell_type": "code",
   "execution_count": 53,
   "metadata": {
    "execution": {
     "iopub.execute_input": "2022-07-24T08:06:34.655034Z",
     "iopub.status.busy": "2022-07-24T08:06:34.653766Z",
     "iopub.status.idle": "2022-07-24T08:06:34.660944Z",
     "shell.execute_reply": "2022-07-24T08:06:34.660064Z",
     "shell.execute_reply.started": "2022-07-24T08:06:34.654976Z"
    }
   },
   "outputs": [],
   "source": [
    "logreg = LogisticRegression()"
   ]
  },
  {
   "cell_type": "code",
   "execution_count": 54,
   "metadata": {
    "execution": {
     "iopub.execute_input": "2022-07-24T08:06:52.432089Z",
     "iopub.status.busy": "2022-07-24T08:06:52.431452Z",
     "iopub.status.idle": "2022-07-24T08:06:52.455850Z",
     "shell.execute_reply": "2022-07-24T08:06:52.454820Z",
     "shell.execute_reply.started": "2022-07-24T08:06:52.432041Z"
    }
   },
   "outputs": [],
   "source": [
    "logreg.fit(X_train,y_train)"
   ]
  },
  {
   "cell_type": "code",
   "execution_count": 55,
   "metadata": {
    "execution": {
     "iopub.execute_input": "2022-07-24T08:07:17.231053Z",
     "iopub.status.busy": "2022-07-24T08:07:17.230607Z",
     "iopub.status.idle": "2022-07-24T08:07:17.236669Z",
     "shell.execute_reply": "2022-07-24T08:07:17.235493Z",
     "shell.execute_reply.started": "2022-07-24T08:07:17.231015Z"
    }
   },
   "outputs": [],
   "source": [
    "y_pred = logreg.predict(X_test)"
   ]
  },
  {
   "cell_type": "code",
   "execution_count": 60,
   "metadata": {
    "execution": {
     "iopub.execute_input": "2022-07-24T08:11:57.065588Z",
     "iopub.status.busy": "2022-07-24T08:11:57.065158Z",
     "iopub.status.idle": "2022-07-24T08:11:57.070868Z",
     "shell.execute_reply": "2022-07-24T08:11:57.069593Z",
     "shell.execute_reply.started": "2022-07-24T08:11:57.065552Z"
    }
   },
   "outputs": [],
   "source": [
    "from sklearn.metrics import confusion_matrix,f1_score,accuracy_score,classification_report"
   ]
  },
  {
   "cell_type": "code",
   "execution_count": 57,
   "metadata": {
    "execution": {
     "iopub.execute_input": "2022-07-24T08:08:52.083389Z",
     "iopub.status.busy": "2022-07-24T08:08:52.082624Z",
     "iopub.status.idle": "2022-07-24T08:08:52.110423Z",
     "shell.execute_reply": "2022-07-24T08:08:52.098286Z",
     "shell.execute_reply.started": "2022-07-24T08:08:52.083344Z"
    }
   },
   "outputs": [],
   "source": [
    "confusion_matrix(y_test,y_pred)"
   ]
  },
  {
   "cell_type": "code",
   "execution_count": 58,
   "metadata": {
    "execution": {
     "iopub.execute_input": "2022-07-24T08:10:52.745586Z",
     "iopub.status.busy": "2022-07-24T08:10:52.745059Z",
     "iopub.status.idle": "2022-07-24T08:10:52.755815Z",
     "shell.execute_reply": "2022-07-24T08:10:52.754434Z",
     "shell.execute_reply.started": "2022-07-24T08:10:52.745547Z"
    }
   },
   "outputs": [],
   "source": [
    "accuracy_score(y_test,y_pred)"
   ]
  },
  {
   "cell_type": "code",
   "execution_count": 63,
   "metadata": {
    "execution": {
     "iopub.execute_input": "2022-07-24T08:12:37.996930Z",
     "iopub.status.busy": "2022-07-24T08:12:37.995605Z",
     "iopub.status.idle": "2022-07-24T08:12:38.010619Z",
     "shell.execute_reply": "2022-07-24T08:12:38.009360Z",
     "shell.execute_reply.started": "2022-07-24T08:12:37.996875Z"
    }
   },
   "outputs": [],
   "source": [
    "x = classification_report(y_test,y_pred)\n",
    "print(x)"
   ]
  },
  {
   "cell_type": "code",
   "execution_count": null,
   "metadata": {},
   "outputs": [],
   "source": []
  }
 ],
 "metadata": {
  "kernelspec": {
   "display_name": "Python 3",
   "language": "python",
   "name": "python3"
  },
  "language_info": {
   "codemirror_mode": {
    "name": "ipython",
    "version": 3
   },
   "file_extension": ".py",
   "mimetype": "text/x-python",
   "name": "python",
   "nbconvert_exporter": "python",
   "pygments_lexer": "ipython3",
   "version": "3.8.8"
  }
 },
 "nbformat": 4,
 "nbformat_minor": 4
}
